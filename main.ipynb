{
 "cells": [
  {
   "cell_type": "markdown",
   "metadata": {},
   "source": [
    "### Getting countries"
   ]
  },
  {
   "cell_type": "code",
   "execution_count": 4,
   "metadata": {},
   "outputs": [
    {
     "name": "stdout",
     "output_type": "stream",
     "text": [
      "Countries retrieved successfully:\n",
      "Countries data saved to 'countries.json'\n"
     ]
    }
   ],
   "source": [
    "import requests\n",
    "import pandas as pd\n",
    "import json\n",
    "\n",
    "\n",
    "contest_url = \"https://eurovisionapi.runasp.net/api/countries\"\n",
    "\n",
    "contests_response = requests.get(contest_url)\n",
    "\n",
    "if contests_response.status_code == 200:\n",
    "    contest = contests_response.json()\n",
    "    print(\"Countries retrieved successfully:\")\n",
    "\n",
    "    with open(\"countries.json\", \"w\", encoding=\"utf-8\") as file:\n",
    "        json.dump(contest, file, ensure_ascii=False, indent=4)\n",
    "    \n",
    "    print(\"Countries data saved to 'countries.json'\")\n",
    "else:\n",
    "    print(f\"Failed to retrieve data. Status code: {contests_response.status_code}\")\n"
   ]
  },
  {
   "cell_type": "markdown",
   "metadata": {},
   "source": [
    "### Getting contests"
   ]
  },
  {
   "cell_type": "code",
   "execution_count": 5,
   "metadata": {},
   "outputs": [
    {
     "name": "stdout",
     "output_type": "stream",
     "text": [
      "Contests retrieved successfully:\n",
      "Contest data saved to 'contests.json'\n"
     ]
    }
   ],
   "source": [
    "import requests\n",
    "import pandas as pd\n",
    "import json\n",
    "\n",
    "\n",
    "contest_url = \"https://eurovisionapi.runasp.net/api/contests\"\n",
    "\n",
    "contests_response = requests.get(contest_url)\n",
    "\n",
    "if contests_response.status_code == 200:\n",
    "    contest = contests_response.json()\n",
    "    print(\"Contests retrieved successfully:\")\n",
    "\n",
    "    with open(\"contests.json\", \"w\", encoding=\"utf-8\") as file:\n",
    "        json.dump(contest, file, ensure_ascii=False, indent=4)\n",
    "    \n",
    "    print(\"Contest data saved to 'contests.json'\")\n",
    "else:\n",
    "    print(f\"Failed to retrieve data. Status code: {contests_response.status_code}\")\n"
   ]
  },
  {
   "cell_type": "code",
   "execution_count": null,
   "metadata": {},
   "outputs": [],
   "source": []
  }
 ],
 "metadata": {
  "kernelspec": {
   "display_name": ".venv",
   "language": "python",
   "name": "python3"
  },
  "language_info": {
   "codemirror_mode": {
    "name": "ipython",
    "version": 3
   },
   "file_extension": ".py",
   "mimetype": "text/x-python",
   "name": "python",
   "nbconvert_exporter": "python",
   "pygments_lexer": "ipython3",
   "version": "3.9.13"
  }
 },
 "nbformat": 4,
 "nbformat_minor": 2
}
