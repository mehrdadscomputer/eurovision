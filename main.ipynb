{
 "cells": [
  {
   "cell_type": "markdown",
   "metadata": {},
   "source": [
    "### Getting countries"
   ]
  },
  {
   "cell_type": "code",
   "execution_count": 4,
   "metadata": {},
   "outputs": [
    {
     "name": "stdout",
     "output_type": "stream",
     "text": [
      "Countries retrieved successfully:\n",
      "Countries data saved to 'countries.json'\n"
     ]
    }
   ],
   "source": [
    "import requests\n",
    "import pandas as pd\n",
    "import json\n",
    "\n",
    "\n",
    "contest_url = \"https://eurovisionapi.runasp.net/api/countries\"\n",
    "\n",
    "contests_response = requests.get(contest_url)\n",
    "\n",
    "if contests_response.status_code == 200:\n",
    "    contest = contests_response.json()\n",
    "    print(\"Countries retrieved successfully:\")\n",
    "\n",
    "    with open(\"countries.json\", \"w\", encoding=\"utf-8\") as file:\n",
    "        json.dump(contest, file, ensure_ascii=False, indent=4)\n",
    "    \n",
    "    print(\"Countries data saved to 'countries.json'\")\n",
    "else:\n",
    "    print(f\"Failed to retrieve data. Status code: {contests_response.status_code}\")\n"
   ]
  },
  {
   "cell_type": "markdown",
   "metadata": {},
   "source": [
    "### Getting contests"
   ]
  },
  {
   "cell_type": "code",
   "execution_count": 5,
   "metadata": {},
   "outputs": [
    {
     "name": "stdout",
     "output_type": "stream",
     "text": [
      "Contests retrieved successfully:\n",
      "Contest data saved to 'contests.json'\n"
     ]
    }
   ],
   "source": [
    "import requests\n",
    "import pandas as pd\n",
    "import json\n",
    "\n",
    "\n",
    "contest_url = \"https://eurovisionapi.runasp.net/api/contests\"\n",
    "\n",
    "contests_response = requests.get(contest_url)\n",
    "\n",
    "if contests_response.status_code == 200:\n",
    "    contest = contests_response.json()\n",
    "    print(\"Contests retrieved successfully:\")\n",
    "\n",
    "    with open(\"contests.json\", \"w\", encoding=\"utf-8\") as file:\n",
    "        json.dump(contest, file, ensure_ascii=False, indent=4)\n",
    "    \n",
    "    print(\"Contest data saved to 'contests.json'\")\n",
    "else:\n",
    "    print(f\"Failed to retrieve data. Status code: {contests_response.status_code}\")\n"
   ]
  },
  {
   "cell_type": "code",
   "execution_count": null,
   "metadata": {},
   "outputs": [
    {
     "name": "stdout",
     "output_type": "stream",
     "text": [
      "Data for 1956 saved to contests_details\\contest_1956.json\n",
      "Data for 1957 saved to contests_details\\contest_1957.json\n",
      "Data for 1958 saved to contests_details\\contest_1958.json\n",
      "Data for 1959 saved to contests_details\\contest_1959.json\n",
      "Data for 1960 saved to contests_details\\contest_1960.json\n",
      "Data for 1961 saved to contests_details\\contest_1961.json\n",
      "Data for 1962 saved to contests_details\\contest_1962.json\n",
      "Data for 1963 saved to contests_details\\contest_1963.json\n",
      "Data for 1964 saved to contests_details\\contest_1964.json\n",
      "Data for 1965 saved to contests_details\\contest_1965.json\n",
      "Data for 1966 saved to contests_details\\contest_1966.json\n",
      "Data for 1967 saved to contests_details\\contest_1967.json\n",
      "Data for 1968 saved to contests_details\\contest_1968.json\n",
      "Data for 1969 saved to contests_details\\contest_1969.json\n",
      "Data for 1970 saved to contests_details\\contest_1970.json\n",
      "Data for 1971 saved to contests_details\\contest_1971.json\n",
      "Data for 1972 saved to contests_details\\contest_1972.json\n",
      "Data for 1973 saved to contests_details\\contest_1973.json\n",
      "Data for 1974 saved to contests_details\\contest_1974.json\n",
      "Data for 1975 saved to contests_details\\contest_1975.json\n",
      "Data for 1976 saved to contests_details\\contest_1976.json\n",
      "Data for 1977 saved to contests_details\\contest_1977.json\n",
      "Data for 1978 saved to contests_details\\contest_1978.json\n",
      "Data for 1979 saved to contests_details\\contest_1979.json\n",
      "Data for 1980 saved to contests_details\\contest_1980.json\n",
      "Data for 1981 saved to contests_details\\contest_1981.json\n",
      "Data for 1982 saved to contests_details\\contest_1982.json\n",
      "Data for 1983 saved to contests_details\\contest_1983.json\n",
      "Data for 1984 saved to contests_details\\contest_1984.json\n",
      "Data for 1985 saved to contests_details\\contest_1985.json\n",
      "Data for 1986 saved to contests_details\\contest_1986.json\n",
      "Data for 1987 saved to contests_details\\contest_1987.json\n",
      "Data for 1988 saved to contests_details\\contest_1988.json\n",
      "Data for 1989 saved to contests_details\\contest_1989.json\n",
      "Data for 1990 saved to contests_details\\contest_1990.json\n",
      "Data for 1991 saved to contests_details\\contest_1991.json\n",
      "Data for 1992 saved to contests_details\\contest_1992.json\n",
      "Data for 1993 saved to contests_details\\contest_1993.json\n",
      "Data for 1994 saved to contests_details\\contest_1994.json\n",
      "Data for 1995 saved to contests_details\\contest_1995.json\n",
      "Data for 1996 saved to contests_details\\contest_1996.json\n",
      "Data for 1997 saved to contests_details\\contest_1997.json\n",
      "Data for 1998 saved to contests_details\\contest_1998.json\n",
      "Data for 1999 saved to contests_details\\contest_1999.json\n",
      "Data for 2000 saved to contests_details\\contest_2000.json\n",
      "Data for 2001 saved to contests_details\\contest_2001.json\n",
      "Data for 2002 saved to contests_details\\contest_2002.json\n",
      "Data for 2003 saved to contests_details\\contest_2003.json\n",
      "Data for 2004 saved to contests_details\\contest_2004.json\n",
      "Data for 2005 saved to contests_details\\contest_2005.json\n",
      "Data for 2006 saved to contests_details\\contest_2006.json\n",
      "Data for 2007 saved to contests_details\\contest_2007.json\n",
      "Data for 2008 saved to contests_details\\contest_2008.json\n",
      "Data for 2009 saved to contests_details\\contest_2009.json\n",
      "Data for 2010 saved to contests_details\\contest_2010.json\n",
      "Data for 2011 saved to contests_details\\contest_2011.json\n",
      "Data for 2012 saved to contests_details\\contest_2012.json\n",
      "Data for 2013 saved to contests_details\\contest_2013.json\n",
      "Data for 2014 saved to contests_details\\contest_2014.json\n",
      "Data for 2015 saved to contests_details\\contest_2015.json\n",
      "Data for 2016 saved to contests_details\\contest_2016.json\n",
      "Data for 2017 saved to contests_details\\contest_2017.json\n",
      "Data for 2018 saved to contests_details\\contest_2018.json\n",
      "Data for 2019 saved to contests_details\\contest_2019.json\n",
      "Data for 2020 saved to contests_details\\contest_2020.json\n",
      "Data for 2021 saved to contests_details\\contest_2021.json\n",
      "Data for 2022 saved to contests_details\\contest_2022.json\n",
      "Data for 2023 saved to contests_details\\contest_2023.json\n",
      "Data for 2024 saved to contests_details\\contest_2024.json\n"
     ]
    }
   ],
   "source": [
    "import os\n",
    "\n",
    "output_dir = \"contests_details\"\n",
    "os.makedirs(output_dir, exist_ok=True)\n",
    "\n",
    "for year in range(1956, 2025):\n",
    "    url = f\"https://eurovisionapi.runasp.net/api/contests/{year}\"\n",
    "    response = requests.get(url)\n",
    "    \n",
    "    if response.status_code == 200:\n",
    "        data = response.json()\n",
    "        file_path = os.path.join(output_dir, f\"contest_{year}.json\")\n",
    "        with open(file_path, \"w\", encoding=\"utf-8\") as f:\n",
    "            json.dump(data, f, ensure_ascii=False, indent=4)\n",
    "        print(f\"Data for {year} saved to {file_path}\")\n",
    "    else:\n",
    "        print(f\"Failed to retrieve data for {year}. Status code: {response.status_code}\")\n"
   ]
  },
  {
   "cell_type": "code",
   "execution_count": null,
   "metadata": {},
   "outputs": [],
   "source": []
  }
 ],
 "metadata": {
  "kernelspec": {
   "display_name": ".venv",
   "language": "python",
   "name": "python3"
  },
  "language_info": {
   "codemirror_mode": {
    "name": "ipython",
    "version": 3
   },
   "file_extension": ".py",
   "mimetype": "text/x-python",
   "name": "python",
   "nbconvert_exporter": "python",
   "pygments_lexer": "ipython3",
   "version": "3.9.13"
  }
 },
 "nbformat": 4,
 "nbformat_minor": 2
}
